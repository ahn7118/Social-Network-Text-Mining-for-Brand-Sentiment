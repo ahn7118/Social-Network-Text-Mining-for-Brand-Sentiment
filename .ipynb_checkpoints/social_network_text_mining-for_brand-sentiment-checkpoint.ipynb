{
 "cells": [
  {
   "cell_type": "code",
   "execution_count": 2,
   "metadata": {},
   "outputs": [],
   "source": [
    "import twitter\n",
    "import pandas as pd\n",
    "import numpy as np\n",
    "import json\n",
    "from collections import Counter\n",
    "import matplotlib.pyplot as plt\n",
    "import nltk\n",
    "%matplotlib inline\n",
    "\n",
    "\n"
   ]
  },
  {
   "cell_type": "markdown",
   "metadata": {},
   "source": [
    "## Collecting Twitter Data for Analysis"
   ]
  },
  {
   "cell_type": "code",
   "execution_count": 3,
   "metadata": {},
   "outputs": [],
   "source": [
    "consumer_key = 'iOMT0EjRmiwonVS0tHZFsxqxt'\n",
    "consumer_secret = 'HwmW5fdci4qixLvrUMNdlCvq9VDNAQXmC3yxY2buakgTKTxxvy'\n",
    "oauth_token = '848082146145251328-UayRUQlOENxlrMb73WI4s2HvK3V7ngu'\n",
    "oauth_token_secret = 'EtBUK2RGTUh5VSCnGxFmIdkGIUsqwwdBqgV4t1KCGHY8x'\n",
    "\n",
    "auth = twitter.oauth.OAuth(oauth_token, \n",
    "                           oauth_token_secret,\n",
    "                           consumer_key,\n",
    "                           consumer_secret)\n",
    "                           \n",
    "twitter_api = twitter.Twitter(auth = auth)"
   ]
  },
  {
   "cell_type": "code",
   "execution_count": null,
   "metadata": {},
   "outputs": [],
   "source": [
    "world_woe_id = 1\n",
    "kr_woe_id = 1132599\n",
    "US_woe_id = 2458410\n",
    "\n",
    "world_trends = twitter_api.trends.place(_id = world_woe_id)\n",
    "us_trends = twitter_api.trends.place(_id = US_woe_id)\n",
    "kr_trends = twitter_api.trends.place(_id = kr_woe_id)\n",
    "\n",
    "q = 'bmw'\n",
    "count = 100\n",
    "search_results = twitter_api.search.tweets(q = q, count = count)\n",
    "\n",
    "statuses = search_results['statuses']\n",
    "\n",
    "for _ in range(20):\n",
    "    print(\"Length of Statuses\", len(statuses))\n",
    "    try:\n",
    "        next_results = search_results['search_metadata']['next_results']\n",
    "    except KeyError:\n",
    "        print(search_results['search_metadata'])\n",
    "        break\n",
    "    kwargs = dict([kv.split('=') for kv in next_results[1:].split(\"&\")])\n",
    "    search_results = twitter_api.search.tweets(**kwargs)\n",
    "    statuses += search_results['statuses']\n",
    "\n",
    "    \n",
    "q2 = 'benz'\n",
    "count = 100\n",
    "search_results2 = twitter_api.search.tweets(q = q2, count = count)\n",
    "\n",
    "statuses2 = search_results2['statuses']\n",
    "\n",
    "for _ in range(20):\n",
    "    print(\"Length of Statuses\", len(statuses2))\n",
    "    try:\n",
    "        next_results = search_results2['search_metadata']['next_results']\n",
    "    except KeyError:\n",
    "        print(search_results2['search_metadata'])\n",
    "        break\n",
    "    kwargs = dict([kv.split('=') for kv in next_results[1:].split(\"&\")])\n",
    "    search_results2 = twitter_api.search.tweets(**kwargs)\n",
    "    statuses2 += search_results2['statuses']"
   ]
  },
  {
   "cell_type": "code",
   "execution_count": null,
   "metadata": {},
   "outputs": [],
   "source": [
    "group1_user_id, group1_screen_name,group1_created_time, group1_id_created_time, group1_id_created_time = [], [], [], [], []\n",
    "group1_followers_count, group1_friends_count, group1_status_texts, group1_lang = [], [], [], []\n",
    "\n",
    "\n",
    "\n",
    "for status in statuses:\n",
    "    group1_user_id.append(status['user']['id'])\n",
    "    group1_screen_name.append(status['user']['screen_name'])\n",
    "    group1_created_time.append(status['created_at'])\n",
    "    group1_id_created_time.append(status['user']['created_at'])\n",
    "    group1_followers_count.append(status['user']['followers_count'])\n",
    "    group1_friends_count.append(status['user']['friends_count'])\n",
    "    group1_status_texts.append(status['text'])\n",
    "    group1_lang.append(status['metadata']['iso_language_code'])\n",
    "\n",
    "\n",
    "    \n",
    "df_userid = pd.DataFrame(group1_user_id, columns = ['user_id'])\n",
    "df_screen_name = pd.DataFrame(group1_screen_name, columns = ['screen_name'])\n",
    "df_created_time = pd.DataFrame(group1_created_time, columns = ['created_time'])\n",
    "df_id_created_time = pd.DataFrame(group1_id_created_time, columns = ['id_created_time'])\n",
    "df_followers_count = pd.DataFrame(group1_followers_count, columns = ['followers_count'])\n",
    "df_friends_count = pd.DataFrame(group1_friends_count, columns = ['friends_count'])\n",
    "df_text = pd.DataFrame(group1_status_texts, columns = ['text'])\n",
    "df_lang = pd.DataFrame(group1_lang, columns = ['lang'])\n",
    "\n",
    "\n",
    "\n",
    "\n",
    "df_group1 = pd.concat([df_userid, df_screen_name, \n",
    "                      df_created_time, df_id_created_time,df_followers_count, \n",
    "                      df_friends_count, df_text, df_lang], axis=1)\n",
    "\n",
    "df_group1 = df_group1.query('lang == \"en\"')"
   ]
  },
  {
   "cell_type": "code",
   "execution_count": null,
   "metadata": {},
   "outputs": [],
   "source": []
  },
  {
   "cell_type": "code",
   "execution_count": null,
   "metadata": {},
   "outputs": [],
   "source": [
    "group2_user_id, group2_screen_name,group2_created_time, group2_id_created_time, group2_id_created_time = [], [], [], [], []\n",
    "group2_followers_count, group2_friends_count, group2_status_texts, group2_lang = [], [], [], []\n",
    "\n",
    "\n",
    "\n",
    "for status in statuses2:\n",
    "    group2_user_id.append(status['user']['id'])\n",
    "    group2_screen_name.append(status['user']['screen_name'])\n",
    "    group2_created_time.append(status['created_at'])\n",
    "    group2_id_created_time.append(status['user']['created_at'])\n",
    "    group2_followers_count.append(status['user']['followers_count'])\n",
    "    group2_friends_count.append(status['user']['friends_count'])\n",
    "    group2_status_texts.append(status['text'])\n",
    "    group2_lang.append(status['metadata']['iso_language_code'])\n",
    "\n",
    "df_userid = pd.DataFrame(group2_user_id, columns = ['user_id'])\n",
    "df_screen_name = pd.DataFrame(group2_screen_name, columns = ['screen_name'])\n",
    "df_created_time = pd.DataFrame(group2_created_time, columns = ['created_time'])\n",
    "df_id_created_time = pd.DataFrame(group2_id_created_time, columns = ['id_created_time'])\n",
    "df_followers_count = pd.DataFrame(group2_followers_count, columns = ['followers_count'])\n",
    "df_friends_count = pd.DataFrame(group2_friends_count, columns = ['friends_count'])\n",
    "df_text = pd.DataFrame(group2_status_texts, columns = ['text'])\n",
    "df_lang = pd.DataFrame(group2_lang, columns = ['lang'])\n",
    "\n",
    "\n",
    "df_group2 = pd.concat([df_userid, df_screen_name, \n",
    "                      df_created_time, df_id_created_time,df_followers_count, \n",
    "                      df_friends_count, df_text, df_lang], axis=1)\n",
    "\n",
    "df_group2 = df_group2.query('lang == \"en\"')"
   ]
  },
  {
   "cell_type": "code",
   "execution_count": null,
   "metadata": {},
   "outputs": [],
   "source": []
  },
  {
   "cell_type": "code",
   "execution_count": null,
   "metadata": {},
   "outputs": [],
   "source": []
  },
  {
   "cell_type": "code",
   "execution_count": null,
   "metadata": {},
   "outputs": [],
   "source": []
  },
  {
   "cell_type": "code",
   "execution_count": null,
   "metadata": {},
   "outputs": [],
   "source": []
  },
  {
   "cell_type": "code",
   "execution_count": null,
   "metadata": {},
   "outputs": [],
   "source": []
  },
  {
   "cell_type": "code",
   "execution_count": null,
   "metadata": {},
   "outputs": [],
   "source": []
  },
  {
   "cell_type": "code",
   "execution_count": null,
   "metadata": {},
   "outputs": [],
   "source": []
  },
  {
   "cell_type": "code",
   "execution_count": null,
   "metadata": {},
   "outputs": [],
   "source": []
  },
  {
   "cell_type": "code",
   "execution_count": null,
   "metadata": {},
   "outputs": [],
   "source": []
  },
  {
   "cell_type": "code",
   "execution_count": null,
   "metadata": {},
   "outputs": [],
   "source": []
  },
  {
   "cell_type": "code",
   "execution_count": null,
   "metadata": {},
   "outputs": [],
   "source": []
  }
 ],
 "metadata": {
  "kernelspec": {
   "display_name": "Python 3",
   "language": "python",
   "name": "python3"
  },
  "language_info": {
   "codemirror_mode": {
    "name": "ipython",
    "version": 3
   },
   "file_extension": ".py",
   "mimetype": "text/x-python",
   "name": "python",
   "nbconvert_exporter": "python",
   "pygments_lexer": "ipython3",
   "version": "3.6.5"
  }
 },
 "nbformat": 4,
 "nbformat_minor": 2
}
